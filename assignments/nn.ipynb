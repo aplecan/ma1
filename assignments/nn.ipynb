{
 "cells": [
  {
   "cell_type": "markdown",
   "metadata": {},
   "source": [
    "# Mandatory Assignment 1\n",
    "\n",
    "#### Part I: Multi-layer Perceptron\n",
    "\n",
    "***\n",
    "\n",
    "Please see the description of the assignment in the README file (section 1) <br>\n",
    "**Guide notebook**: [material/nns_pytorch.ipynb](material/nns_pytorch.ipynb)\n",
    "\n",
    "Table of contents:\n",
    "1. Activate GPU\n",
    "2. Load data\n",
    "3. Inspect data\n",
    "4. Artificial neural network (**Where you will implement the ANN**)\n",
    "5. Training hyperparameters (**Where you will add training parameters**)\n",
    "6. Training\n",
    "7. Plot loss and accuracy\n",
    "8. Evaluate\n"
   ]
  },
  {
   "cell_type": "code",
   "execution_count": null,
   "metadata": {},
   "outputs": [],
   "source": [
    "import random\n",
    "import matplotlib.pyplot as plt\n",
    "import os\n",
    "from pathlib import Path\n",
    "\n",
    "import torch\n",
    "import torch.nn as nn\n",
    "from torchvision import transforms\n",
    "import torch.nn.functional as F "
   ]
  },
  {
   "cell_type": "markdown",
   "metadata": {},
   "source": [
    "First, a bit of a hack in case your IDE wants to run the notebook from /`assignment/` and not the project root folder `/ma1`. We need the working directory to be `/ma1` for local imports to work."
   ]
  },
  {
   "cell_type": "code",
   "execution_count": null,
   "metadata": {},
   "outputs": [
    {
     "name": "stdout",
     "output_type": "stream",
     "text": [
      "Working directory set to: c:\\Users\\Alexandru Plecan\\Desktop\\Bewerbung\\Studium\\BWL\\Master\\AIML25\\ma1\n"
     ]
    }
   ],
   "source": [
    "while Path.cwd().name != \"ma1\" and \"ma1\" in str(Path.cwd()):\n",
    "    os.chdir(\"..\")  \n",
    "print(f\"Working directory set to: {Path.cwd()}\")"
   ]
  },
  {
   "cell_type": "markdown",
   "metadata": {},
   "source": [
    "##### Import local files\n",
    "\n",
    "To declutter the notebooks, your are given a module (`/src`) of useful functions. Please study each one as they contain important code (particularly `src.training` and `src.evaluation`). "
   ]
  },
  {
   "cell_type": "code",
   "execution_count": null,
   "metadata": {},
   "outputs": [],
   "source": [
    "from src.utils import get_device\n",
    "from src.data import load_torch_data, to_dataloader, train_val_split\n",
    "from src.training import fit\n",
    "from src.evaluation import evaluate\n",
    "from src.visualize import plot_training_history"
   ]
  },
  {
   "cell_type": "markdown",
   "metadata": {},
   "source": [
    "### 1. Activate GPU\n",
    "If available. Note that this is not necessary, but it will speed up your training."
   ]
  },
  {
   "cell_type": "code",
   "execution_count": null,
   "metadata": {},
   "outputs": [
    {
     "name": "stdout",
     "output_type": "stream",
     "text": [
      "Running pytorch version (2.5.1) with backend = cpu\n"
     ]
    }
   ],
   "source": [
    "DEVICE = get_device()\n"
   ]
  },
  {
   "cell_type": "markdown",
   "metadata": {},
   "source": [
    "### 2. Load data"
   ]
  },
  {
   "cell_type": "code",
   "execution_count": null,
   "metadata": {},
   "outputs": [
    {
     "data": {
      "text/plain": [
       "'len(train_val)=60000, len(test)=10000'"
      ]
     },
     "execution_count": 5,
     "metadata": {},
     "output_type": "execute_result"
    }
   ],
   "source": [
    "train_val = load_torch_data(\n",
    "    dataset=\"MNIST\",\n",
    "    root = 'data',                     \n",
    "    download = True,                   \n",
    "    train = True,                      \n",
    "    transform = transforms.ToTensor()  \n",
    ")\n",
    "\n",
    "test = load_torch_data(\n",
    "    dataset = \"MNIST\",\n",
    "    root = 'data',\n",
    "    download = True,\n",
    "    train = False,\n",
    "    transform = transforms.ToTensor()\n",
    ")\n",
    "\n",
    "f\"{len(train_val)=}, {len(test)=}\""
   ]
  },
  {
   "cell_type": "code",
   "execution_count": null,
   "metadata": {},
   "outputs": [
    {
     "data": {
      "text/plain": [
       "'len(val)=12000, len(train)=48000'"
      ]
     },
     "execution_count": 6,
     "metadata": {},
     "output_type": "execute_result"
    }
   ],
   "source": [
    "train, val = train_val_split(train_val, val_ratio=0.2, seed=42)\n",
    "\n",
    "f\"{len(val)=}, {len(train)=}\""
   ]
  },
  {
   "cell_type": "code",
   "execution_count": null,
   "metadata": {},
   "outputs": [],
   "source": [
    "train_loader = to_dataloader(train, batch_size = 64, shuffle = True)\n",
    "val_loader = to_dataloader(val, batch_size = 64, shuffle = False)\n",
    "test_loader = to_dataloader(test, batch_size = 64, shuffle = False)"
   ]
  },
  {
   "cell_type": "markdown",
   "metadata": {},
   "source": [
    "### 3. Inspect data"
   ]
  },
  {
   "cell_type": "code",
   "execution_count": null,
   "metadata": {},
   "outputs": [
    {
     "name": "stdout",
     "output_type": "stream",
     "text": [
      "Default image shape: torch.Size([1, 28, 28])\n",
      "Reshaped image shape: torch.Size([28, 28])\n",
      "Total pixels: 784\n",
      "The label for this image: 5\n"
     ]
    },
    {
     "data": {
      "image/png": "[encoded data removed]",
      "text/plain": [
       "<Figure size 640x480 with 1 Axes>"
      ]
     },
     "metadata": {},
     "output_type": "display_data"
    }
   ],
   "source": [
    "selection = random.randrange(len(train)-1)\n",
    "image, label = train[selection]\n",
    "\n",
    "print(f\"Default image shape: {image.shape}\")\n",
    "image = image.view([28,28])\n",
    "\n",
    "print(f\"Reshaped image shape: {image.shape}\")\n",
    "plt.imshow(image, cmap=\"gray\")\n",
    "\n",
    "print(f\"Total pixels: {image.shape[0] * image.shape[1]}\")\n",
    "\n",
    "print(f\"The label for this image: {label}\")\n"
   ]
  },
  {
   "cell_type": "markdown",
   "metadata": {},
   "source": [
    "***\n",
    "\n",
    "### 4. Artificial neural network"
   ]
  },
  {
   "cell_type": "code",
   "execution_count": null,
   "metadata": {},
   "outputs": [],
   "source": [
    "class MLP(nn.Module):\n",
    "    def __init__(self):\n",
    "        super().__init__()\n",
    "     \n",
    "        self.flatten = nn.Flatten()\n",
    "     \n",
    "        self.fc1 = nn.Linear(28 * 28, 500)\n",
    "      \n",
    "        self.relu = nn.ReLU()\n",
    "        self.dropout = nn.Dropout(p=0.2)\n",
    "      # Added a dropout layer as we discussed possible overfitting. I believe didnt chage that much but I think it is a good practice to add it.\n",
    "        self.fc2 = nn.Linear(500, 10)\n",
    "    \n",
    "    def forward(self, x: torch.Tensor):\n",
    "       \n",
    "        x = self.flatten(x)\n",
    "        \n",
    "        x = self.fc1(x)\n",
    "       \n",
    "        x = self.relu(x)\n",
    "      \n",
    "        x = self.fc2(x)\n",
    "        return x\n"
   ]
  },
  {
   "cell_type": "markdown",
   "metadata": {},
   "source": [
    "### 5. Training hyperparameters"
   ]
  },
  {
   "cell_type": "code",
   "execution_count": 20,
   "metadata": {},
   "outputs": [],
   "source": [
    "LR = 0.01         \n",
    "NUM_EPOCHS = 30    \n",
    "BATCH_SIZE = 64 # Apparently my CPU can't handle it. I added the batch size to reduce the load on the CPU.\n",
    "criterion = nn.CrossEntropyLoss()  \n"
   ]
  },
  {
   "cell_type": "markdown",
   "metadata": {},
   "source": []
  },
  {
   "cell_type": "markdown",
   "metadata": {},
   "source": [
    "Instantiate the model and optimizer"
   ]
  },
  {
   "cell_type": "code",
   "execution_count": null,
   "metadata": {},
   "outputs": [],
   "source": [
    "model = MLP().to(DEVICE)\n",
    "\n",
    "optimizer = torch.optim.SGD(model.parameters(), lr=LR)\n"
   ]
  },
  {
   "cell_type": "code",
   "execution_count": 22,
   "metadata": {},
   "outputs": [
    {
     "data": {
      "text/plain": [
       "MLP(\n",
       "  (flatten): Flatten(start_dim=1, end_dim=-1)\n",
       "  (fc1): Linear(in_features=784, out_features=500, bias=True)\n",
       "  (relu): ReLU()\n",
       "  (dropout): Dropout(p=0.2, inplace=False)\n",
       "  (fc2): Linear(in_features=500, out_features=10, bias=True)\n",
       ")"
      ]
     },
     "execution_count": 22,
     "metadata": {},
     "output_type": "execute_result"
    }
   ],
   "source": [
    "model"
   ]
  },
  {
   "cell_type": "markdown",
   "metadata": {},
   "source": [
    "### 6. Training"
   ]
  },
  {
   "cell_type": "code",
   "execution_count": 23,
   "metadata": {},
   "outputs": [
    {
     "name": "stdout",
     "output_type": "stream",
     "text": [
      "Epoch [1/30]: Train Loss: 1.3094 | Train Accuracy: 75.63% | Val Loss: 0.6792 | Val Accuracy: 84.77%\n",
      "Epoch [2/30]: Train Loss: 0.5351 | Train Accuracy: 87.04% | Val Loss: 0.4656 | Val Accuracy: 88.06%\n",
      "Epoch [3/30]: Train Loss: 0.4149 | Train Accuracy: 89.00% | Val Loss: 0.4008 | Val Accuracy: 89.13%\n",
      "Epoch [4/30]: Train Loss: 0.3671 | Train Accuracy: 89.92% | Val Loss: 0.3688 | Val Accuracy: 89.72%\n",
      "Epoch [5/30]: Train Loss: 0.3397 | Train Accuracy: 90.56% | Val Loss: 0.3475 | Val Accuracy: 90.26%\n",
      "Epoch [6/30]: Train Loss: 0.3201 | Train Accuracy: 90.89% | Val Loss: 0.3326 | Val Accuracy: 90.39%\n",
      "Epoch [7/30]: Train Loss: 0.3048 | Train Accuracy: 91.40% | Val Loss: 0.3183 | Val Accuracy: 90.95%\n",
      "Epoch [8/30]: Train Loss: 0.2920 | Train Accuracy: 91.70% | Val Loss: 0.3072 | Val Accuracy: 91.33%\n",
      "Epoch [9/30]: Train Loss: 0.2806 | Train Accuracy: 92.09% | Val Loss: 0.2973 | Val Accuracy: 91.60%\n",
      "Epoch [10/30]: Train Loss: 0.2704 | Train Accuracy: 92.40% | Val Loss: 0.2889 | Val Accuracy: 91.83%\n",
      "Epoch [11/30]: Train Loss: 0.2607 | Train Accuracy: 92.74% | Val Loss: 0.2800 | Val Accuracy: 92.15%\n",
      "Epoch [12/30]: Train Loss: 0.2519 | Train Accuracy: 92.92% | Val Loss: 0.2711 | Val Accuracy: 92.36%\n",
      "Epoch [13/30]: Train Loss: 0.2437 | Train Accuracy: 93.28% | Val Loss: 0.2643 | Val Accuracy: 92.51%\n",
      "Epoch [14/30]: Train Loss: 0.2358 | Train Accuracy: 93.44% | Val Loss: 0.2568 | Val Accuracy: 92.88%\n",
      "Epoch [15/30]: Train Loss: 0.2283 | Train Accuracy: 93.67% | Val Loss: 0.2493 | Val Accuracy: 93.03%\n",
      "Epoch [16/30]: Train Loss: 0.2212 | Train Accuracy: 93.84% | Val Loss: 0.2431 | Val Accuracy: 93.21%\n",
      "Epoch [17/30]: Train Loss: 0.2144 | Train Accuracy: 94.04% | Val Loss: 0.2372 | Val Accuracy: 93.36%\n",
      "Epoch [18/30]: Train Loss: 0.2083 | Train Accuracy: 94.24% | Val Loss: 0.2314 | Val Accuracy: 93.49%\n",
      "Epoch [19/30]: Train Loss: 0.2021 | Train Accuracy: 94.43% | Val Loss: 0.2260 | Val Accuracy: 93.63%\n",
      "Epoch [20/30]: Train Loss: 0.1964 | Train Accuracy: 94.56% | Val Loss: 0.2213 | Val Accuracy: 93.65%\n",
      "Epoch [21/30]: Train Loss: 0.1908 | Train Accuracy: 94.72% | Val Loss: 0.2154 | Val Accuracy: 93.92%\n",
      "Epoch [22/30]: Train Loss: 0.1857 | Train Accuracy: 94.84% | Val Loss: 0.2114 | Val Accuracy: 94.00%\n",
      "Epoch [23/30]: Train Loss: 0.1808 | Train Accuracy: 94.94% | Val Loss: 0.2067 | Val Accuracy: 94.16%\n",
      "Epoch [24/30]: Train Loss: 0.1760 | Train Accuracy: 95.11% | Val Loss: 0.2017 | Val Accuracy: 94.38%\n",
      "Epoch [25/30]: Train Loss: 0.1716 | Train Accuracy: 95.23% | Val Loss: 0.1969 | Val Accuracy: 94.36%\n",
      "Epoch [26/30]: Train Loss: 0.1672 | Train Accuracy: 95.38% | Val Loss: 0.1937 | Val Accuracy: 94.53%\n",
      "Epoch [27/30]: Train Loss: 0.1631 | Train Accuracy: 95.47% | Val Loss: 0.1898 | Val Accuracy: 94.59%\n",
      "Epoch [28/30]: Train Loss: 0.1592 | Train Accuracy: 95.61% | Val Loss: 0.1858 | Val Accuracy: 94.76%\n",
      "Epoch [29/30]: Train Loss: 0.1554 | Train Accuracy: 95.68% | Val Loss: 0.1834 | Val Accuracy: 94.73%\n",
      "Epoch [30/30]: Train Loss: 0.1517 | Train Accuracy: 95.83% | Val Loss: 0.1798 | Val Accuracy: 94.89%\n"
     ]
    }
   ],
   "source": [
    "model, history = fit(\n",
    "    model,\n",
    "    train_loader = train_loader,\n",
    "    val_loader = val_loader,\n",
    "    device = DEVICE,\n",
    "    optimizer = optimizer,\n",
    "    criterion = criterion,\n",
    "    num_epochs = NUM_EPOCHS\n",
    ")"
   ]
  },
  {
   "cell_type": "markdown",
   "metadata": {},
   "source": [
    "### 7. Plot loss and accuracy"
   ]
  },
  {
   "cell_type": "code",
   "execution_count": 24,
   "metadata": {},
   "outputs": [
    {
     "data": {
      "image/png": "[encoded data removed]",
      "text/plain": [
       "<Figure size 1200x600 with 2 Axes>"
      ]
     },
     "metadata": {},
     "output_type": "display_data"
    }
   ],
   "source": [
    "plot_training_history(history)"
   ]
  },
  {
   "cell_type": "markdown",
   "metadata": {},
   "source": [
    "### 8. Evaluate"
   ]
  },
  {
   "cell_type": "code",
   "execution_count": null,
   "metadata": {},
   "outputs": [
    {
     "name": "stdout",
     "output_type": "stream",
     "text": [
      "Evaluation Results:\n",
      "Loss: 0.1487, Accuracy: 95.90%\n",
      "\n",
      "Classification Report:\n",
      "              precision    recall  f1-score   support\n",
      "\n",
      "           0       0.98      0.98      0.98      4735\n",
      "           1       0.97      0.98      0.97      5383\n",
      "           2       0.96      0.95      0.96      4762\n",
      "           3       0.96      0.94      0.95      4886\n",
      "           4       0.95      0.96      0.95      4681\n",
      "           5       0.95      0.95      0.95      4368\n",
      "           6       0.97      0.97      0.97      4752\n",
      "           7       0.96      0.97      0.97      4983\n",
      "           8       0.95      0.94      0.95      4674\n",
      "           9       0.95      0.94      0.94      4776\n",
      "\n",
      "    accuracy                           0.96     48000\n",
      "   macro avg       0.96      0.96      0.96     48000\n",
      "weighted avg       0.96      0.96      0.96     48000\n",
      "\n"
     ]
    }
   ],
   "source": [
    "evaluate(\n",
    "    model = model,\n",
    "    data_loader = train_loader,  \n",
    "    criterion = criterion,\n",
    "    device = DEVICE,\n",
    ")"
   ]
  },
  {
   "cell_type": "code",
   "execution_count": null,
   "metadata": {},
   "outputs": [
    {
     "name": "stdout",
     "output_type": "stream",
     "text": [
      "Evaluation Results:\n",
      "Loss: 0.1823, Accuracy: 94.78%\n",
      "\n",
      "Classification Report:\n",
      "              precision    recall  f1-score   support\n",
      "\n",
      "           0       0.97      0.96      0.96      1188\n",
      "           1       0.97      0.97      0.97      1359\n",
      "           2       0.95      0.93      0.94      1196\n",
      "           3       0.93      0.94      0.93      1245\n",
      "           4       0.94      0.95      0.94      1161\n",
      "           5       0.93      0.95      0.94      1053\n",
      "           6       0.96      0.96      0.96      1166\n",
      "           7       0.95      0.97      0.96      1282\n",
      "           8       0.95      0.94      0.95      1177\n",
      "           9       0.93      0.90      0.91      1173\n",
      "\n",
      "    accuracy                           0.95     12000\n",
      "   macro avg       0.95      0.95      0.95     12000\n",
      "weighted avg       0.95      0.95      0.95     12000\n",
      "\n"
     ]
    }
   ],
   "source": [
    "evaluate(\n",
    "    model = model,\n",
    "    data_loader = val_loader,  \n",
    "    criterion = criterion,\n",
    "    device = DEVICE,\n",
    ")"
   ]
  },
  {
   "cell_type": "code",
   "execution_count": null,
   "metadata": {},
   "outputs": [
    {
     "name": "stdout",
     "output_type": "stream",
     "text": [
      "Evaluation Results:\n",
      "Loss: 0.1573, Accuracy: 95.48%\n",
      "\n",
      "Classification Report:\n",
      "              precision    recall  f1-score   support\n",
      "\n",
      "           0       0.96      0.99      0.97       980\n",
      "           1       0.98      0.98      0.98      1135\n",
      "           2       0.96      0.95      0.95      1032\n",
      "           3       0.94      0.95      0.95      1010\n",
      "           4       0.94      0.96      0.95       982\n",
      "           5       0.95      0.94      0.95       892\n",
      "           6       0.96      0.96      0.96       958\n",
      "           7       0.95      0.95      0.95      1028\n",
      "           8       0.95      0.94      0.94       974\n",
      "           9       0.95      0.93      0.94      1009\n",
      "\n",
      "    accuracy                           0.95     10000\n",
      "   macro avg       0.95      0.95      0.95     10000\n",
      "weighted avg       0.95      0.95      0.95     10000\n",
      "\n"
     ]
    }
   ],
   "source": [
    "evaluate(\n",
    "    model = model,\n",
    "    data_loader = test_loader,  \n",
    "    criterion = criterion,\n",
    "    device = DEVICE,\n",
    ")"
   ]
  },
  {
   "cell_type": "code",
   "execution_count": null,
   "metadata": {},
   "outputs": [],
   "source": []
  }
 ],
 "metadata": {
  "kernelspec": {
   "display_name": "aiml25-ma1",
   "language": "python",
   "name": "python3"
  },
  "language_info": {
   "codemirror_mode": {
    "name": "ipython",
    "version": 3
   },
   "file_extension": ".py",
   "mimetype": "text/x-python",
   "name": "python",
   "nbconvert_exporter": "python",
   "pygments_lexer": "ipython3",
   "version": "3.13.1"
  }
 },
 "nbformat": 4,
 "nbformat_minor": 2
}
